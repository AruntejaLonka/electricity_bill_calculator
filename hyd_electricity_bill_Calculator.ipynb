{
  "nbformat": 4,
  "nbformat_minor": 0,
  "metadata": {
    "colab": {
      "name": "hyd_electricity bill_Calculator",
      "provenance": [],
      "authorship_tag": "ABX9TyNXrrVbgTU0L95k7kaX2dgt",
      "include_colab_link": true
    },
    "kernelspec": {
      "name": "python3",
      "display_name": "Python 3"
    },
    "language_info": {
      "name": "python"
    }
  },
  "cells": [
    {
      "cell_type": "markdown",
      "metadata": {
        "id": "view-in-github",
        "colab_type": "text"
      },
      "source": [
        "<a href=\"https://colab.research.google.com/github/AruntejaLonka/electricity_bill_calculator/blob/main/hyd_electricity_bill_Calculator.ipynb\" target=\"_parent\"><img src=\"https://colab.research.google.com/assets/colab-badge.svg\" alt=\"Open In Colab\"/></a>"
      ]
    },
    {
      "cell_type": "code",
      "metadata": {
        "colab": {
          "base_uri": "https://localhost:8080/"
        },
        "id": "xfoTnBD4ITlz",
        "outputId": "cacefa1b-a0c8-44f3-9901-9df2790e0f55"
      },
      "source": [
        "units = int(input(\"Enter Your consumed Units: \"))\n"
      ],
      "execution_count": 55,
      "outputs": [
        {
          "name": "stdout",
          "output_type": "stream",
          "text": [
            "Enter Your consumed Units: 80\n"
          ]
        }
      ]
    },
    {
      "cell_type": "code",
      "metadata": {
        "colab": {
          "base_uri": "https://localhost:8080/"
        },
        "id": "0vD939kEIgBZ",
        "outputId": "24eb43fd-7c35-4a69-93dc-bf1852f87811"
      },
      "source": [
        "if units <=50:\n",
        "  amount = units*4.10\n",
        "  print(f\"Your electric city Bill Amount is: {amount}\")  \n",
        "elif units in range(51,100):\n",
        "  amount = units*5.5\n",
        "  print(f\"Your electric city Bill Amount is: {amount}\")\n",
        "elif units in range(101,200):\n",
        "  amount = units*7\n",
        "  print(f\"Your electric city Bill Amount is: {amount}\")\n",
        "else:\n",
        "  amount = units*8\n",
        "  print(f\"Your electric city Bill Amount is: {amount}\")    \n",
        "\n",
        "\n",
        "  "
      ],
      "execution_count": 56,
      "outputs": [
        {
          "output_type": "stream",
          "name": "stdout",
          "text": [
            "Your electric city Bill Amount is: 440.0\n"
          ]
        }
      ]
    },
    {
      "cell_type": "code",
      "metadata": {
        "colab": {
          "base_uri": "https://localhost:8080/"
        },
        "id": "e_xViC5WJCnr",
        "outputId": "cfa0bda8-f8f5-4755-d5ff-b092e44e103a"
      },
      "source": [
        "amount"
      ],
      "execution_count": 18,
      "outputs": [
        {
          "output_type": "execute_result",
          "data": {
            "text/plain": [
              "0"
            ]
          },
          "metadata": {},
          "execution_count": 18
        }
      ]
    },
    {
      "cell_type": "code",
      "metadata": {
        "id": "bS_uPs-rKTC7"
      },
      "source": [
        ""
      ],
      "execution_count": null,
      "outputs": []
    }
  ]
}